{
  "nbformat": 4,
  "nbformat_minor": 0,
  "metadata": {
    "colab": {
      "name": "airlines with COVID impact",
      "provenance": [],
      "collapsed_sections": [],
      "authorship_tag": "ABX9TyOZwcsC53Yb+xADqtycLMKu",
      "include_colab_link": true
    },
    "kernelspec": {
      "name": "python3",
      "display_name": "Python 3"
    },
    "language_info": {
      "name": "python"
    }
  },
  "cells": [
    {
      "cell_type": "markdown",
      "metadata": {
        "id": "view-in-github",
        "colab_type": "text"
      },
      "source": [
        "<a href=\"https://colab.research.google.com/github/mopferman/Airlines-in-COVID-2020/blob/main/airlines_with_COVID_impact.ipynb\" target=\"_parent\"><img src=\"https://colab.research.google.com/assets/colab-badge.svg\" alt=\"Open In Colab\"/></a>"
      ]
    },
    {
      "cell_type": "code",
      "metadata": {
        "colab": {
          "base_uri": "https://localhost:8080/"
        },
        "id": "KL__SCgARnkk",
        "outputId": "45458f0a-f451-48c7-8ec3-3f54eb5b64e6"
      },
      "source": [
        "from google.colab import drive\n",
        "drive.mount('/content/drive')"
      ],
      "execution_count": null,
      "outputs": [
        {
          "output_type": "stream",
          "text": [
            "Drive already mounted at /content/drive; to attempt to forcibly remount, call drive.mount(\"/content/drive\", force_remount=True).\n"
          ],
          "name": "stdout"
        }
      ]
    },
    {
      "cell_type": "code",
      "metadata": {
        "id": "32tzR156RzI1"
      },
      "source": [
        "import matplotlib.pyplot as plt\n",
        "import pandas as pd\n",
        "import numpy as np"
      ],
      "execution_count": null,
      "outputs": []
    },
    {
      "cell_type": "code",
      "metadata": {
        "colab": {
          "base_uri": "https://localhost:8080/",
          "height": 241
        },
        "id": "70Mkrra4R2YJ",
        "outputId": "15102d25-4b56-4f5f-b6ae-c02fa1967f3a"
      },
      "source": [
        "df = pd.read_csv('/content/US Monthly Air Passengers.csv')\n",
        "df.head()"
      ],
      "execution_count": null,
      "outputs": [
        {
          "output_type": "execute_result",
          "data": {
            "text/html": [
              "<div>\n",
              "<style scoped>\n",
              "    .dataframe tbody tr th:only-of-type {\n",
              "        vertical-align: middle;\n",
              "    }\n",
              "\n",
              "    .dataframe tbody tr th {\n",
              "        vertical-align: top;\n",
              "    }\n",
              "\n",
              "    .dataframe thead th {\n",
              "        text-align: right;\n",
              "    }\n",
              "</style>\n",
              "<table border=\"1\" class=\"dataframe\">\n",
              "  <thead>\n",
              "    <tr style=\"text-align: right;\">\n",
              "      <th></th>\n",
              "      <th>Sum_PASSENGERS</th>\n",
              "      <th>AIRLINE_ID</th>\n",
              "      <th>CARRIER_NAME</th>\n",
              "      <th>ORIGIN</th>\n",
              "      <th>ORIGIN_CITY_NAME</th>\n",
              "      <th>ORIGIN_STATE_ABR</th>\n",
              "      <th>ORIGIN_STATE_NM</th>\n",
              "      <th>ORIGIN_COUNTRY</th>\n",
              "      <th>ORIGIN_COUNTRY_NAME</th>\n",
              "      <th>DEST</th>\n",
              "      <th>DEST_CITY_NAME</th>\n",
              "      <th>DEST_STATE_ABR</th>\n",
              "      <th>DEST_STATE_NM</th>\n",
              "      <th>DEST_COUNTRY</th>\n",
              "      <th>DEST_COUNTRY_NAME</th>\n",
              "      <th>YEAR</th>\n",
              "      <th>MONTH</th>\n",
              "    </tr>\n",
              "  </thead>\n",
              "  <tbody>\n",
              "    <tr>\n",
              "      <th>0</th>\n",
              "      <td>0</td>\n",
              "      <td>NaN</td>\n",
              "      <td>NaN</td>\n",
              "      <td>AEX</td>\n",
              "      <td>Alexandria, LA</td>\n",
              "      <td>LA</td>\n",
              "      <td>Louisiana</td>\n",
              "      <td>US</td>\n",
              "      <td>United States</td>\n",
              "      <td>AEX</td>\n",
              "      <td>Alexandria, LA</td>\n",
              "      <td>LA</td>\n",
              "      <td>Louisiana</td>\n",
              "      <td>US</td>\n",
              "      <td>United States</td>\n",
              "      <td>2015</td>\n",
              "      <td>3</td>\n",
              "    </tr>\n",
              "    <tr>\n",
              "      <th>1</th>\n",
              "      <td>0</td>\n",
              "      <td>NaN</td>\n",
              "      <td>NaN</td>\n",
              "      <td>AEX</td>\n",
              "      <td>Alexandria, LA</td>\n",
              "      <td>LA</td>\n",
              "      <td>Louisiana</td>\n",
              "      <td>US</td>\n",
              "      <td>United States</td>\n",
              "      <td>AFW</td>\n",
              "      <td>Dallas/Fort Worth, TX</td>\n",
              "      <td>TX</td>\n",
              "      <td>Texas</td>\n",
              "      <td>US</td>\n",
              "      <td>United States</td>\n",
              "      <td>2015</td>\n",
              "      <td>4</td>\n",
              "    </tr>\n",
              "    <tr>\n",
              "      <th>2</th>\n",
              "      <td>0</td>\n",
              "      <td>NaN</td>\n",
              "      <td>NaN</td>\n",
              "      <td>AEX</td>\n",
              "      <td>Alexandria, LA</td>\n",
              "      <td>LA</td>\n",
              "      <td>Louisiana</td>\n",
              "      <td>US</td>\n",
              "      <td>United States</td>\n",
              "      <td>ATL</td>\n",
              "      <td>Atlanta, GA</td>\n",
              "      <td>GA</td>\n",
              "      <td>Georgia</td>\n",
              "      <td>US</td>\n",
              "      <td>United States</td>\n",
              "      <td>2015</td>\n",
              "      <td>3</td>\n",
              "    </tr>\n",
              "    <tr>\n",
              "      <th>3</th>\n",
              "      <td>89</td>\n",
              "      <td>NaN</td>\n",
              "      <td>NaN</td>\n",
              "      <td>AEX</td>\n",
              "      <td>Alexandria, LA</td>\n",
              "      <td>LA</td>\n",
              "      <td>Louisiana</td>\n",
              "      <td>US</td>\n",
              "      <td>United States</td>\n",
              "      <td>BOG</td>\n",
              "      <td>Bogota, Colombia</td>\n",
              "      <td>NaN</td>\n",
              "      <td>NaN</td>\n",
              "      <td>CO</td>\n",
              "      <td>Colombia</td>\n",
              "      <td>2015</td>\n",
              "      <td>1</td>\n",
              "    </tr>\n",
              "    <tr>\n",
              "      <th>4</th>\n",
              "      <td>108</td>\n",
              "      <td>NaN</td>\n",
              "      <td>NaN</td>\n",
              "      <td>AEX</td>\n",
              "      <td>Alexandria, LA</td>\n",
              "      <td>LA</td>\n",
              "      <td>Louisiana</td>\n",
              "      <td>US</td>\n",
              "      <td>United States</td>\n",
              "      <td>BOG</td>\n",
              "      <td>Bogota, Colombia</td>\n",
              "      <td>NaN</td>\n",
              "      <td>NaN</td>\n",
              "      <td>CO</td>\n",
              "      <td>Colombia</td>\n",
              "      <td>2015</td>\n",
              "      <td>3</td>\n",
              "    </tr>\n",
              "  </tbody>\n",
              "</table>\n",
              "</div>"
            ],
            "text/plain": [
              "   Sum_PASSENGERS  AIRLINE_ID CARRIER_NAME  ... DEST_COUNTRY_NAME  YEAR MONTH\n",
              "0               0         NaN          NaN  ...     United States  2015     3\n",
              "1               0         NaN          NaN  ...     United States  2015     4\n",
              "2               0         NaN          NaN  ...     United States  2015     3\n",
              "3              89         NaN          NaN  ...          Colombia  2015     1\n",
              "4             108         NaN          NaN  ...          Colombia  2015     3\n",
              "\n",
              "[5 rows x 17 columns]"
            ]
          },
          "metadata": {
            "tags": []
          },
          "execution_count": 28
        }
      ]
    },
    {
      "cell_type": "code",
      "metadata": {
        "colab": {
          "base_uri": "https://localhost:8080/",
          "height": 379
        },
        "id": "-6uG1jhXa-KG",
        "outputId": "668f2f86-7263-481e-a444-46364fea7a2b"
      },
      "source": [
        "plt.style.use('seaborn')\n",
        "plt.xticks(rotation = 90)\n",
        "plt.ticklabel_format(useOffset=False, style='plain')\n",
        "plt.tick_params(axis='x', which='major', labelsize=8)\n",
        "plt.title(\"California Sees the Most Flights Originating from MD\")\n",
        "plt.xlabel('Originating State')\n",
        "plt.ylabel('Number of Flights since March 2020')\n",
        "df.loc[df['DEST_STATE_ABR'] == 'CA', 'ORIGIN_STATE_ABR'].hist(bins=75);"
      ],
      "execution_count": null,
      "outputs": [
        {
          "output_type": "display_data",
          "data": {
            "image/png": "[encoded data removed]",
            "text/plain": [
              "<Figure size 576x396 with 1 Axes>"
            ]
          },
          "metadata": {
            "tags": []
          }
        }
      ]
    }
  ]
}